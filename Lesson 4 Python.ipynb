{
 "cells": [
  {
   "cell_type": "code",
   "execution_count": 1,
   "id": "ac2e449b",
   "metadata": {},
   "outputs": [],
   "source": [
    "import pandas as pd\n",
    "import numpy as np\n",
    "import seaborn as sns\n",
    "import scipy\n",
    "from scipy import stats\n",
    "from statsmodels.stats.multicomp import pairwise_tukeyhsd\n",
    "from statsmodels.stats.multicomp import MultiComparison"
   ]
  },
  {
   "cell_type": "code",
   "execution_count": 2,
   "id": "2d3e9955",
   "metadata": {},
   "outputs": [],
   "source": [
    "df = pd.read_csv('C:/Users/User/Downloads/avocados/avocados.csv')"
   ]
  },
  {
   "cell_type": "code",
   "execution_count": 3,
   "id": "4855cd9f",
   "metadata": {},
   "outputs": [],
   "source": [
    "df = df.loc[df['region'].isin(['Indianapolis','Orlando','PhoenixTucson'])]"
   ]
  },
  {
   "cell_type": "code",
   "execution_count": 4,
   "id": "3d127672",
   "metadata": {},
   "outputs": [
    {
     "data": {
      "text/plain": [
       "region\n",
       "Indianapolis     1.313994\n",
       "Orlando          1.506213\n",
       "PhoenixTucson    1.224438\n",
       "Name: AveragePrice, dtype: float64"
      ]
     },
     "execution_count": 4,
     "metadata": {},
     "output_type": "execute_result"
    }
   ],
   "source": [
    "df.groupby('region').mean()['AveragePrice']"
   ]
  },
  {
   "cell_type": "code",
   "execution_count": 6,
   "id": "bdd41148",
   "metadata": {},
   "outputs": [],
   "source": [
    "df['RegionsNum']= df['region'].replace(['Indianapolis','Orlando','PhoenixTucson'],[0,1,2])\n",
    "df = df[['AveragePrice','RegionsNum']]"
   ]
  },
  {
   "cell_type": "code",
   "execution_count": 8,
   "id": "56730993",
   "metadata": {},
   "outputs": [
    {
     "data": {
      "text/plain": [
       "<seaborn.axisgrid.FacetGrid at 0x1a193822160>"
      ]
     },
     "execution_count": 8,
     "metadata": {},
     "output_type": "execute_result"
    },
    {
     "data": {
      "image/png": "[encoded data removed]",
      "text/plain": [
       "<Figure size 360x360 with 1 Axes>"
      ]
     },
     "metadata": {
      "needs_background": "light"
     },
     "output_type": "display_data"
    }
   ],
   "source": [
    "sns.displot(df['AveragePrice'])"
   ]
  },
  {
   "cell_type": "code",
   "execution_count": 9,
   "id": "afba0ad3",
   "metadata": {},
   "outputs": [
    {
     "data": {
      "text/plain": [
       "BartlettResult(statistic=370.1318985501912, pvalue=1.7517644825407276e-82)"
      ]
     },
     "execution_count": 9,
     "metadata": {},
     "output_type": "execute_result"
    }
   ],
   "source": [
    "scipy.stats.bartlett(df['AveragePrice'], df['RegionsNum'])"
   ]
  },
  {
   "cell_type": "code",
   "execution_count": 10,
   "id": "7a5c8c60",
   "metadata": {},
   "outputs": [
    {
     "data": {
      "text/plain": [
       "FlignerResult(statistic=262.01883292247567, pvalue=6.229672162065104e-59)"
      ]
     },
     "execution_count": 10,
     "metadata": {},
     "output_type": "execute_result"
    }
   ],
   "source": [
    "scipy.stats.fligner(df['AveragePrice'], df['RegionsNum'])"
   ]
  },
  {
   "cell_type": "code",
   "execution_count": 18,
   "id": "a1698dc7",
   "metadata": {},
   "outputs": [
    {
     "ename": "NameError",
     "evalue": "name 'Multicomparison' is not defined",
     "output_type": "error",
     "traceback": [
      "\u001b[1;31m---------------------------------------------------------------------------\u001b[0m",
      "\u001b[1;31mNameError\u001b[0m                                 Traceback (most recent call last)",
      "\u001b[1;32m<ipython-input-18-fba44c6bd488>\u001b[0m in \u001b[0;36m<module>\u001b[1;34m\u001b[0m\n\u001b[1;32m----> 1\u001b[1;33m \u001b[0mpostHoc\u001b[0m \u001b[1;33m=\u001b[0m \u001b[0mMulticomparison\u001b[0m\u001b[1;33m(\u001b[0m\u001b[0mdf\u001b[0m\u001b[1;33m[\u001b[0m\u001b[1;34m'AveragePrice'\u001b[0m\u001b[1;33m]\u001b[0m\u001b[1;33m,\u001b[0m \u001b[0mdf\u001b[0m\u001b[1;33m[\u001b[0m\u001b[1;34m'RegionsNum'\u001b[0m\u001b[1;33m]\u001b[0m\u001b[1;33m)\u001b[0m\u001b[1;33m\u001b[0m\u001b[1;33m\u001b[0m\u001b[0m\n\u001b[0m\u001b[0;32m      2\u001b[0m \u001b[0mpostHocResults\u001b[0m \u001b[1;33m=\u001b[0m \u001b[0mpostHoc\u001b[0m\u001b[1;33m.\u001b[0m\u001b[0mtukeyhsd\u001b[0m\u001b[1;33m(\u001b[0m\u001b[1;33m)\u001b[0m\u001b[1;33m\u001b[0m\u001b[1;33m\u001b[0m\u001b[0m\n\u001b[0;32m      3\u001b[0m \u001b[0mprint\u001b[0m\u001b[1;33m(\u001b[0m\u001b[0mpostHocResults\u001b[0m\u001b[1;33m)\u001b[0m\u001b[1;33m\u001b[0m\u001b[1;33m\u001b[0m\u001b[0m\n",
      "\u001b[1;31mNameError\u001b[0m: name 'Multicomparison' is not defined"
     ]
    }
   ],
   "source": [
    "postHoc = Multicomparison(df['AveragePrice'], df['RegionsNum'])\n",
    "postHocResults = postHoc.tukeyhsd()\n",
    "print(postHocResults)"
   ]
  },
  {
   "cell_type": "code",
   "execution_count": null,
   "id": "1be0ba5e",
   "metadata": {},
   "outputs": [],
   "source": [
    "#stats_model - heteroscedasticity corrected coefficient\n",
    "#covariance matrix in the .anova_lm()\n",
    "#f-Oneway"
   ]
  },
  {
   "cell_type": "code",
   "execution_count": 17,
   "id": "d7dc689d",
   "metadata": {},
   "outputs": [
    {
     "data": {
      "text/plain": [
       "F_onewayResult(statistic=39.27005113498051, pvalue=3.760638188860114e-17)"
      ]
     },
     "execution_count": 17,
     "metadata": {},
     "output_type": "execute_result"
    }
   ],
   "source": [
    "stats.f_oneway(df.loc[df['RegionsNum']==0][\"AveragePrice\"],\n",
    "              df.loc[df['RegionsNum']==1][\"AveragePrice\"],\n",
    "                    df.loc[df['RegionsNum']==2][\"AveragePrice\"])"
   ]
  },
  {
   "cell_type": "code",
   "execution_count": null,
   "id": "0fa180af",
   "metadata": {},
   "outputs": [],
   "source": []
  }
 ],
 "metadata": {
  "kernelspec": {
   "display_name": "Python 3",
   "language": "python",
   "name": "python3"
  },
  "language_info": {
   "codemirror_mode": {
    "name": "ipython",
    "version": 3
   },
   "file_extension": ".py",
   "mimetype": "text/x-python",
   "name": "python",
   "nbconvert_exporter": "python",
   "pygments_lexer": "ipython3",
   "version": "3.8.8"
  }
 },
 "nbformat": 4,
 "nbformat_minor": 5
}
